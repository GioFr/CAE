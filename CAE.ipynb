{
 "cells": [
  {
   "cell_type": "code",
   "execution_count": null,
   "metadata": {
    "id": "KZDejClRJ6A8"
   },
   "outputs": [],
   "source": [
    "# import libraries\n",
    "import numpy as np\n",
    "import pandas as pd\n",
    "import matplotlib.pyplot as plt\n",
    "from tensorflow import keras"
   ]
  },
  {
   "cell_type": "markdown",
   "metadata": {
    "id": "CTZyafTElC0j"
   },
   "source": [
    "## **MNIST**"
   ]
  },
  {
   "cell_type": "code",
   "execution_count": null,
   "metadata": {
    "colab": {
     "base_uri": "https://localhost:8080/"
    },
    "id": "LrIU9il9IVOt",
    "outputId": "f157d84d-ec87-40d2-a638-c687b82034ae"
   },
   "outputs": [
    {
     "name": "stdout",
     "output_type": "stream",
     "text": [
      "Downloading data from https://storage.googleapis.com/tensorflow/tf-keras-datasets/mnist.npz\n",
      "11493376/11490434 [==============================] - 0s 0us/step\n",
      "11501568/11490434 [==============================] - 0s 0us/step\n"
     ]
    }
   ],
   "source": [
    "# import MNIST dataset from keras\n",
    "from keras.datasets import mnist\n",
    "# split dataset into train and test sets\n",
    "(train_X, train_y), (test_X, test_y) = mnist.load_data()"
   ]
  },
  {
   "cell_type": "code",
   "execution_count": null,
   "metadata": {
    "colab": {
     "base_uri": "https://localhost:8080/"
    },
    "id": "nshhL5xEAx7O",
    "outputId": "ee0c7db7-fd7a-472f-eeba-06096127f5f9"
   },
   "outputs": [
    {
     "name": "stdout",
     "output_type": "stream",
     "text": [
      "(60000, 28, 28)\n",
      "(10000, 28, 28)\n"
     ]
    }
   ],
   "source": [
    "print(train_X.shape)\n",
    "print(test_X.shape)"
   ]
  },
  {
   "cell_type": "code",
   "execution_count": null,
   "metadata": {
    "colab": {
     "base_uri": "https://localhost:8080/",
     "height": 145
    },
    "id": "jnu4qv_bJDwj",
    "outputId": "a62a7e86-a1ed-4745-ea31-9ddf2f76504b"
   },
   "outputs": [
    {
     "data": {
      "image/png": "[encoded data removed]",
      "text/plain": [
       "<Figure size 1440x288 with 10 Axes>"
      ]
     },
     "metadata": {},
     "output_type": "display_data"
    }
   ],
   "source": [
    "# plot some images from the set\n",
    "\n",
    "n=10 #number of images to be plotted\n",
    "plt.figure(figsize=(20, 4))\n",
    "for i in range(n):\n",
    "\n",
    "    ax = plt.subplot(2, n, i + 1)\n",
    "    plt.imshow(test_X[i])\n",
    "\n",
    "plt.show()"
   ]
  },
  {
   "cell_type": "code",
   "execution_count": null,
   "metadata": {
    "id": "_uaCY3T69PVx"
   },
   "outputs": [],
   "source": [
    "# scale images to the [0, 1] range\n",
    "train_X = train_X.astype('float32') / 255.\n",
    "test_X = test_X.astype('float32') / 255.\n",
    "\n",
    "# reshape data to feed the model\n",
    "train_X = np.reshape(train_X, (len(train_X), 28, 28, 1))  \n",
    "test_X = np.reshape(test_X, (len(test_X), 28, 28, 1))\n",
    "\n",
    "# transform labels into categorical data for CNN model\n",
    "train_y = keras.utils.to_categorical(train_y, 10)\n",
    "test_y = keras.utils.to_categorical(test_y, 10)\n"
   ]
  },
  {
   "cell_type": "markdown",
   "metadata": {
    "id": "XHzvqxZLlH2Q"
   },
   "source": [
    "## **CAE**"
   ]
  },
  {
   "cell_type": "code",
   "execution_count": null,
   "metadata": {
    "colab": {
     "base_uri": "https://localhost:8080/"
    },
    "id": "7pUakeplJHum",
    "outputId": "7660b24a-c858-4612-a672-cb604dd72ae6"
   },
   "outputs": [
    {
     "name": "stdout",
     "output_type": "stream",
     "text": [
      "Model: \"model\"\n",
      "_________________________________________________________________\n",
      " Layer (type)                Output Shape              Param #   \n",
      "=================================================================\n",
      " input_1 (InputLayer)        [(None, 28, 28, 1)]       0         \n",
      "                                                                 \n",
      " conv2d (Conv2D)             (None, 28, 28, 16)        160       \n",
      "                                                                 \n",
      " max_pooling2d (MaxPooling2D  (None, 14, 14, 16)       0         \n",
      " )                                                               \n",
      "                                                                 \n",
      " conv2d_1 (Conv2D)           (None, 14, 14, 8)         1160      \n",
      "                                                                 \n",
      " max_pooling2d_1 (MaxPooling  (None, 7, 7, 8)          0         \n",
      " 2D)                                                             \n",
      "                                                                 \n",
      " conv2d_2 (Conv2D)           (None, 7, 7, 8)           584       \n",
      "                                                                 \n",
      " max_pooling2d_2 (MaxPooling  (None, 4, 4, 8)          0         \n",
      " 2D)                                                             \n",
      "                                                                 \n",
      " conv2d_3 (Conv2D)           (None, 4, 4, 8)           584       \n",
      "                                                                 \n",
      " up_sampling2d (UpSampling2D  (None, 8, 8, 8)          0         \n",
      " )                                                               \n",
      "                                                                 \n",
      " conv2d_4 (Conv2D)           (None, 8, 8, 8)           584       \n",
      "                                                                 \n",
      " up_sampling2d_1 (UpSampling  (None, 16, 16, 8)        0         \n",
      " 2D)                                                             \n",
      "                                                                 \n",
      " conv2d_5 (Conv2D)           (None, 14, 14, 16)        1168      \n",
      "                                                                 \n",
      " up_sampling2d_2 (UpSampling  (None, 28, 28, 16)       0         \n",
      " 2D)                                                             \n",
      "                                                                 \n",
      " conv2d_6 (Conv2D)           (None, 28, 28, 1)         145       \n",
      "                                                                 \n",
      "=================================================================\n",
      "Total params: 4,385\n",
      "Trainable params: 4,385\n",
      "Non-trainable params: 0\n",
      "_________________________________________________________________\n"
     ]
    }
   ],
   "source": [
    "# simple CAE (Convolutional Autoencouder)\n",
    "# import keras layers to build the model\n",
    "\n",
    "from keras.layers import Input, Dense, Conv2D, MaxPooling2D, UpSampling2D\n",
    "from keras.models import Model\n",
    "\n",
    "input_img = Input(shape=(28, 28, 1)) \n",
    "\n",
    "# construct the encoder part\n",
    "img = Conv2D(filters = 16, kernel_size = (3, 3), activation='relu', padding='same')(input_img)\n",
    "img = MaxPooling2D(pool_size = (2, 2), padding='same')(img)\n",
    "\n",
    "img = Conv2D(filters = 8, kernel_size = (3, 3), activation='relu', padding='same')(img)\n",
    "img = MaxPooling2D(pool_size = (2, 2), padding='same')(img) \n",
    "\n",
    "img = Conv2D(filters = 8, kernel_size = (3, 3), activation='relu', padding='same')(img)\n",
    "encoded = MaxPooling2D(pool_size = (2, 2), padding='same')(img)\n",
    "\n",
    "# construct the decoder part\n",
    "img = Conv2D(8, (3, 3), activation='relu', padding='same')(encoded)\n",
    "img = UpSampling2D((2, 2))(img)\n",
    "\n",
    "img = Conv2D(8, (3, 3), activation='relu', padding='same')(img)\n",
    "img = UpSampling2D((2, 2))(img)\n",
    "\n",
    "img = Conv2D(16, (3, 3), activation='relu')(img)\n",
    "img = UpSampling2D((2, 2))(img)\n",
    "decoded = Conv2D(1, (3, 3), activation='sigmoid', padding='same')(img)\n",
    "\n",
    "# declare the model\n",
    "cae = Model(input_img, decoded)\n",
    "cae.summary()\n",
    "cae.compile(optimizer='adam', loss='binary_crossentropy') "
   ]
  },
  {
   "cell_type": "code",
   "execution_count": null,
   "metadata": {
    "colab": {
     "background_save": true,
     "base_uri": "https://localhost:8080/"
    },
    "id": "0kpg054S4b51",
    "outputId": "e312c501-0583-484a-e78b-599612c67e52"
   },
   "outputs": [
    {
     "name": "stdout",
     "output_type": "stream",
     "text": [
      "Epoch 1/100\n",
      "469/469 [==============================] - 69s 146ms/step - loss: 0.2250 - val_loss: 0.1504\n",
      "Epoch 2/100\n",
      "469/469 [==============================] - 68s 144ms/step - loss: 0.1373 - val_loss: 0.1267\n",
      "Epoch 3/100\n",
      "469/469 [==============================] - 67s 143ms/step - loss: 0.1239 - val_loss: 0.1193\n",
      "Epoch 4/100\n",
      "469/469 [==============================] - 67s 143ms/step - loss: 0.1179 - val_loss: 0.1145\n",
      "Epoch 5/100\n",
      "469/469 [==============================] - 67s 143ms/step - loss: 0.1137 - val_loss: 0.1112\n",
      "Epoch 6/100\n",
      "469/469 [==============================] - 67s 143ms/step - loss: 0.1107 - val_loss: 0.1083\n",
      "Epoch 7/100\n",
      "469/469 [==============================] - 67s 144ms/step - loss: 0.1086 - val_loss: 0.1065\n",
      "Epoch 8/100\n",
      "469/469 [==============================] - 67s 143ms/step - loss: 0.1070 - val_loss: 0.1050\n",
      "Epoch 9/100\n",
      "469/469 [==============================] - 68s 144ms/step - loss: 0.1058 - val_loss: 0.1041\n",
      "Epoch 10/100\n",
      "469/469 [==============================] - 68s 145ms/step - loss: 0.1046 - val_loss: 0.1027\n",
      "Epoch 11/100\n",
      "469/469 [==============================] - 68s 145ms/step - loss: 0.1036 - val_loss: 0.1018\n",
      "Epoch 12/100\n",
      "469/469 [==============================] - 68s 145ms/step - loss: 0.1028 - val_loss: 0.1012\n",
      "Epoch 13/100\n",
      "469/469 [==============================] - 68s 146ms/step - loss: 0.1020 - val_loss: 0.1004\n",
      "Epoch 14/100\n",
      "469/469 [==============================] - 69s 146ms/step - loss: 0.1014 - val_loss: 0.0998\n",
      "Epoch 15/100\n",
      "469/469 [==============================] - 69s 146ms/step - loss: 0.1008 - val_loss: 0.0993\n",
      "Epoch 16/100\n",
      "469/469 [==============================] - 69s 147ms/step - loss: 0.1004 - val_loss: 0.0990\n",
      "Epoch 17/100\n",
      "469/469 [==============================] - 69s 146ms/step - loss: 0.0999 - val_loss: 0.0984\n",
      "Epoch 18/100\n",
      "469/469 [==============================] - 69s 147ms/step - loss: 0.0994 - val_loss: 0.0978\n",
      "Epoch 19/100\n",
      "469/469 [==============================] - 70s 149ms/step - loss: 0.0989 - val_loss: 0.0978\n",
      "Epoch 20/100\n",
      "469/469 [==============================] - 69s 148ms/step - loss: 0.0985 - val_loss: 0.0971\n",
      "Epoch 21/100\n",
      "469/469 [==============================] - 70s 149ms/step - loss: 0.0981 - val_loss: 0.0967\n",
      "Epoch 22/100\n",
      "469/469 [==============================] - 69s 148ms/step - loss: 0.0977 - val_loss: 0.0964\n",
      "Epoch 23/100\n",
      "469/469 [==============================] - 70s 148ms/step - loss: 0.0974 - val_loss: 0.0960\n",
      "Epoch 24/100\n",
      "469/469 [==============================] - 70s 149ms/step - loss: 0.0970 - val_loss: 0.0957\n",
      "Epoch 25/100\n",
      "469/469 [==============================] - 70s 150ms/step - loss: 0.0967 - val_loss: 0.0953\n",
      "Epoch 26/100\n",
      "469/469 [==============================] - 70s 150ms/step - loss: 0.0963 - val_loss: 0.0958\n",
      "Epoch 27/100\n",
      "125/469 [======>.......................] - ETA: 49s - loss: 0.0961"
     ]
    }
   ],
   "source": [
    "# Train the model\n",
    "cae.fit(train_X, train_X,\n",
    "                epochs=100,\n",
    "                batch_size=128,\n",
    "                shuffle=True,\n",
    "                validation_data=(test_X, test_X)\n",
    "               )"
   ]
  },
  {
   "cell_type": "code",
   "execution_count": null,
   "metadata": {
    "id": "TsxfUt1p4omc"
   },
   "outputs": [],
   "source": [
    "reconstructed_imgs = cae.predict(test_X)"
   ]
  },
  {
   "cell_type": "code",
   "execution_count": null,
   "metadata": {
    "colab": {
     "base_uri": "https://localhost:8080/",
     "height": 263
    },
    "id": "5tOwzBaT7uus",
    "outputId": "923bb3b3-6d8e-4e93-badb-c6c71aecc796"
   },
   "outputs": [
    {
     "data": {
      "image/png": "[encoded data removed]",
      "text/plain": [
       "<Figure size 1440x288 with 20 Axes>"
      ]
     },
     "metadata": {},
     "output_type": "display_data"
    }
   ],
   "source": [
    "n = 10\n",
    "\n",
    "plt.figure(figsize=(20, 4))\n",
    "for i in range(n):\n",
    "    # display original\n",
    "    ax = plt.subplot(2, n, i + 1)\n",
    "    plt.imshow(test_X[i].reshape(28, 28))\n",
    "\n",
    "    # display reconstruction\n",
    "    ax = plt.subplot(2, n, i+1+n)\n",
    "    plt.imshow(reconstructed_imgs[i].reshape(28, 28))\n",
    "plt.show()"
   ]
  },
  {
   "cell_type": "markdown",
   "metadata": {
    "id": "BWE8Fhj8ktq4"
   },
   "source": [
    "### **CNN**"
   ]
  },
  {
   "cell_type": "code",
   "execution_count": null,
   "metadata": {
    "colab": {
     "base_uri": "https://localhost:8080/"
    },
    "id": "b2m5d7397wYr",
    "outputId": "e664dc64-f5a8-437f-cbfb-984b80deda8f"
   },
   "outputs": [
    {
     "name": "stdout",
     "output_type": "stream",
     "text": [
      "Model: \"sequential\"\n",
      "_________________________________________________________________\n",
      " Layer (type)                Output Shape              Param #   \n",
      "=================================================================\n",
      " conv2d_7 (Conv2D)           (None, 26, 26, 32)        320       \n",
      "                                                                 \n",
      " max_pooling2d_3 (MaxPooling  (None, 13, 13, 32)       0         \n",
      " 2D)                                                             \n",
      "                                                                 \n",
      " conv2d_8 (Conv2D)           (None, 11, 11, 64)        18496     \n",
      "                                                                 \n",
      " max_pooling2d_4 (MaxPooling  (None, 5, 5, 64)         0         \n",
      " 2D)                                                             \n",
      "                                                                 \n",
      " flatten (Flatten)           (None, 1600)              0         \n",
      "                                                                 \n",
      " dropout (Dropout)           (None, 1600)              0         \n",
      "                                                                 \n",
      " dense (Dense)               (None, 10)                16010     \n",
      "                                                                 \n",
      "=================================================================\n",
      "Total params: 34,826\n",
      "Trainable params: 34,826\n",
      "Non-trainable params: 0\n",
      "_________________________________________________________________\n",
      "Epoch 1/20\n",
      "329/329 [==============================] - 4s 12ms/step - loss: 0.4406 - accuracy: 0.8644 - val_loss: 0.1148 - val_accuracy: 0.9675\n",
      "Epoch 2/20\n",
      "329/329 [==============================] - 3s 11ms/step - loss: 0.1294 - accuracy: 0.9612 - val_loss: 0.0791 - val_accuracy: 0.9761\n",
      "Epoch 3/20\n",
      "329/329 [==============================] - 4s 11ms/step - loss: 0.0954 - accuracy: 0.9707 - val_loss: 0.0651 - val_accuracy: 0.9803\n",
      "Epoch 4/20\n",
      "329/329 [==============================] - 3s 11ms/step - loss: 0.0801 - accuracy: 0.9750 - val_loss: 0.0540 - val_accuracy: 0.9841\n",
      "Epoch 5/20\n",
      "329/329 [==============================] - 4s 11ms/step - loss: 0.0683 - accuracy: 0.9791 - val_loss: 0.0493 - val_accuracy: 0.9848\n",
      "Epoch 6/20\n",
      "329/329 [==============================] - 3s 10ms/step - loss: 0.0597 - accuracy: 0.9819 - val_loss: 0.0490 - val_accuracy: 0.9858\n",
      "Epoch 7/20\n",
      "329/329 [==============================] - 4s 11ms/step - loss: 0.0562 - accuracy: 0.9826 - val_loss: 0.0434 - val_accuracy: 0.9868\n",
      "Epoch 8/20\n",
      "329/329 [==============================] - 4s 11ms/step - loss: 0.0506 - accuracy: 0.9845 - val_loss: 0.0409 - val_accuracy: 0.9873\n",
      "Epoch 9/20\n",
      "329/329 [==============================] - 3s 11ms/step - loss: 0.0469 - accuracy: 0.9849 - val_loss: 0.0407 - val_accuracy: 0.9873\n",
      "Epoch 10/20\n",
      "329/329 [==============================] - 3s 11ms/step - loss: 0.0447 - accuracy: 0.9857 - val_loss: 0.0395 - val_accuracy: 0.9881\n",
      "Epoch 11/20\n",
      "329/329 [==============================] - 4s 11ms/step - loss: 0.0412 - accuracy: 0.9863 - val_loss: 0.0407 - val_accuracy: 0.9869\n",
      "Epoch 12/20\n",
      "329/329 [==============================] - 3s 11ms/step - loss: 0.0408 - accuracy: 0.9866 - val_loss: 0.0395 - val_accuracy: 0.9875\n",
      "Epoch 13/20\n",
      "329/329 [==============================] - 4s 11ms/step - loss: 0.0369 - accuracy: 0.9885 - val_loss: 0.0362 - val_accuracy: 0.9887\n",
      "Epoch 14/20\n",
      "329/329 [==============================] - 4s 11ms/step - loss: 0.0364 - accuracy: 0.9882 - val_loss: 0.0450 - val_accuracy: 0.9863\n",
      "Epoch 15/20\n",
      "329/329 [==============================] - 3s 11ms/step - loss: 0.0361 - accuracy: 0.9885 - val_loss: 0.0350 - val_accuracy: 0.9893\n",
      "Epoch 16/20\n",
      "329/329 [==============================] - 4s 11ms/step - loss: 0.0334 - accuracy: 0.9891 - val_loss: 0.0423 - val_accuracy: 0.9867\n",
      "Epoch 17/20\n",
      "329/329 [==============================] - 4s 11ms/step - loss: 0.0314 - accuracy: 0.9895 - val_loss: 0.0355 - val_accuracy: 0.9898\n",
      "Epoch 18/20\n",
      "329/329 [==============================] - 4s 11ms/step - loss: 0.0325 - accuracy: 0.9890 - val_loss: 0.0357 - val_accuracy: 0.9892\n",
      "Epoch 19/20\n",
      "329/329 [==============================] - 4s 11ms/step - loss: 0.0288 - accuracy: 0.9909 - val_loss: 0.0325 - val_accuracy: 0.9903\n",
      "Epoch 20/20\n",
      "329/329 [==============================] - 4s 11ms/step - loss: 0.0270 - accuracy: 0.9915 - val_loss: 0.0355 - val_accuracy: 0.9894\n"
     ]
    },
    {
     "data": {
      "text/plain": [
       "<keras.callbacks.History at 0x7f37a07cebd0>"
      ]
     },
     "execution_count": 10,
     "metadata": {},
     "output_type": "execute_result"
    }
   ],
   "source": [
    "# simple CNN model \n",
    "\n",
    "from tensorflow import keras\n",
    "from tensorflow.keras import layers\n",
    "\n",
    "# model contains two convolutional and two maxpooling layers \n",
    "cnn = keras.Sequential(\n",
    "    [\n",
    "        keras.Input(shape=(28, 28, 1)),\n",
    "        layers.Conv2D(32, kernel_size=(3, 3), activation=\"relu\"),\n",
    "        layers.MaxPooling2D(pool_size=(2, 2)),\n",
    "        layers.Conv2D(64, kernel_size=(3, 3), activation=\"relu\"),\n",
    "        layers.MaxPooling2D(pool_size=(2, 2)),\n",
    "        layers.Flatten(),\n",
    "        layers.Dropout(0.5),\n",
    "        layers.Dense(10, activation=\"softmax\"),\n",
    "    ]\n",
    ")\n",
    "\n",
    "cnn.summary()\n",
    "\n",
    "cnn.compile(loss=\"categorical_crossentropy\", optimizer=\"adam\", metrics=[\"accuracy\"])\n",
    "cnn.fit(train_X, train_y, batch_size=128, epochs=20, validation_split=0.3)"
   ]
  },
  {
   "cell_type": "code",
   "execution_count": null,
   "metadata": {
    "colab": {
     "base_uri": "https://localhost:8080/"
    },
    "id": "0tK_WBIikdsF",
    "outputId": "c06f7c5b-e44e-4255-ecee-c37e3db05894"
   },
   "outputs": [
    {
     "name": "stdout",
     "output_type": "stream",
     "text": [
      "Test loss: 0.029604105278849602\n",
      "Test accuracy: 0.9908999800682068\n"
     ]
    }
   ],
   "source": [
    "score = cnn.evaluate(test_X, test_y, verbose=0)\n",
    "print(\"Test loss:\", score[0])\n",
    "print(\"Test accuracy:\", score[1])\n",
    "\n",
    "# this simple CNN model manages to achieve the accuracy of 0.99 for mnist dataset "
   ]
  },
  {
   "cell_type": "markdown",
   "metadata": {
    "id": "m-w_Qd-ak2dW"
   },
   "source": [
    "## **Denoising with CEA**"
   ]
  },
  {
   "cell_type": "code",
   "execution_count": null,
   "metadata": {
    "id": "x5BJaoHjxe7e"
   },
   "outputs": [],
   "source": [
    "# creating noisy data\n",
    "noise_var  = 0.1 \n",
    "\n",
    "train_X_noisy = train_X + noise_var * np.random.normal(0.0, 1.0, size = train_X.shape)\n",
    "test_X_noisy  = test_X + noise_var * np.random.normal(0.0, 1.0, size = test_X.shape)\n",
    "\n",
    "# keeping values between 0 and 1\n",
    "train_X_noisy = np.clip(train_X_noisy, 0.0, 1.0)\n",
    "test_X_noisy  = np.clip(test_X_noisy, 0.0, 1.0)"
   ]
  },
  {
   "cell_type": "code",
   "execution_count": null,
   "metadata": {
    "colab": {
     "base_uri": "https://localhost:8080/",
     "height": 263
    },
    "id": "swJ_yh5ZzXVG",
    "outputId": "26512fbe-6f52-4224-b39c-753bccce6dbf"
   },
   "outputs": [
    {
     "data": {
      "image/png": "[encoded data removed]",
      "text/plain": [
       "<Figure size 1440x288 with 20 Axes>"
      ]
     },
     "metadata": {},
     "output_type": "display_data"
    }
   ],
   "source": [
    "n = 10 # number of images to be plotted\n",
    "\n",
    "plt.figure(figsize=(20, 4))\n",
    "for i in range(n):\n",
    "    # display original\n",
    "    ax = plt.subplot(2, n, i + 1)\n",
    "    plt.gray()\n",
    "    plt.imshow(test_X[i].reshape(28, 28))\n",
    "\n",
    "    # display reconstruction\n",
    "    ax = plt.subplot(2, n, i+1+n)\n",
    "    plt.imshow(test_X_noisy[i].reshape(28, 28))\n",
    "    plt.gray()\n",
    "plt.show()"
   ]
  },
  {
   "cell_type": "code",
   "execution_count": null,
   "metadata": {
    "colab": {
     "base_uri": "https://localhost:8080/"
    },
    "id": "L80bUshF2vpN",
    "outputId": "95cb2700-6430-46af-bc05-7b5848132eb9"
   },
   "outputs": [
    {
     "name": "stdout",
     "output_type": "stream",
     "text": [
      "Model: \"model_1\"\n",
      "_________________________________________________________________\n",
      " Layer (type)                Output Shape              Param #   \n",
      "=================================================================\n",
      " input_3 (InputLayer)        [(None, 28, 28, 1)]       0         \n",
      "                                                                 \n",
      " conv2d_9 (Conv2D)           (None, 28, 28, 16)        160       \n",
      "                                                                 \n",
      " max_pooling2d_5 (MaxPooling  (None, 14, 14, 16)       0         \n",
      " 2D)                                                             \n",
      "                                                                 \n",
      " conv2d_10 (Conv2D)          (None, 14, 14, 8)         1160      \n",
      "                                                                 \n",
      " max_pooling2d_6 (MaxPooling  (None, 7, 7, 8)          0         \n",
      " 2D)                                                             \n",
      "                                                                 \n",
      " conv2d_11 (Conv2D)          (None, 7, 7, 8)           584       \n",
      "                                                                 \n",
      " max_pooling2d_7 (MaxPooling  (None, 4, 4, 8)          0         \n",
      " 2D)                                                             \n",
      "                                                                 \n",
      " conv2d_12 (Conv2D)          (None, 4, 4, 8)           584       \n",
      "                                                                 \n",
      " up_sampling2d_3 (UpSampling  (None, 8, 8, 8)          0         \n",
      " 2D)                                                             \n",
      "                                                                 \n",
      " conv2d_13 (Conv2D)          (None, 8, 8, 8)           584       \n",
      "                                                                 \n",
      " up_sampling2d_4 (UpSampling  (None, 16, 16, 8)        0         \n",
      " 2D)                                                             \n",
      "                                                                 \n",
      " conv2d_14 (Conv2D)          (None, 14, 14, 16)        1168      \n",
      "                                                                 \n",
      " up_sampling2d_5 (UpSampling  (None, 28, 28, 16)       0         \n",
      " 2D)                                                             \n",
      "                                                                 \n",
      " conv2d_15 (Conv2D)          (None, 28, 28, 1)         145       \n",
      "                                                                 \n",
      "=================================================================\n",
      "Total params: 4,385\n",
      "Trainable params: 4,385\n",
      "Non-trainable params: 0\n",
      "_________________________________________________________________\n"
     ]
    }
   ],
   "source": [
    "# simple CAE (Convolutional Autoencouder)\n",
    "# import keras layers to build the model\n",
    "\n",
    "from keras.layers import Input, Dense, Conv2D, MaxPooling2D, UpSampling2D, GaussianNoise\n",
    "from keras.models import Model\n",
    "\n",
    "input_img = Input(shape=(28, 28, 1)) \n",
    "\n",
    "# construct the encoder part\n",
    "img = Conv2D(filters = 16, kernel_size = (3, 3), activation='relu', padding='same')(input_img)\n",
    "img = MaxPooling2D(pool_size = (2, 2), padding='same')(img)\n",
    "\n",
    "img = Conv2D(filters = 8, kernel_size = (3, 3), activation='relu', padding='same')(img)\n",
    "img = MaxPooling2D(pool_size = (2, 2), padding='same')(img) \n",
    "\n",
    "img = Conv2D(filters = 8, kernel_size = (3, 3), activation='relu', padding='same')(img)\n",
    "encoded = MaxPooling2D(pool_size = (2, 2), padding='same')(img)\n",
    "\n",
    "# adding noise \n",
    "GaussianNoise(stddev=0.01)(encoded)\n",
    "\n",
    "# construct the decoder part\n",
    "img = Conv2D(8, (3, 3), activation='relu', padding='same')(encoded)\n",
    "img = UpSampling2D((2, 2))(img)\n",
    "\n",
    "img = Conv2D(8, (3, 3), activation='relu', padding='same')(img)\n",
    "img = UpSampling2D((2, 2))(img)\n",
    "\n",
    "img = Conv2D(16, (3, 3), activation='relu')(img)\n",
    "img = UpSampling2D((2, 2))(img)\n",
    "decoded = Conv2D(1, (3, 3), activation='sigmoid', padding='same')(img)\n",
    "\n",
    "# declare the model\n",
    "cae = Model(input_img, decoded)\n",
    "cae.summary()\n",
    "cae.compile(optimizer='adam', loss='binary_crossentropy') \n",
    "\n",
    "\n"
   ]
  },
  {
   "cell_type": "code",
   "execution_count": null,
   "metadata": {
    "colab": {
     "base_uri": "https://localhost:8080/"
    },
    "id": "yUylR1Js0dVT",
    "outputId": "524923f7-5891-444e-b64e-dd7d86b0201d"
   },
   "outputs": [
    {
     "name": "stdout",
     "output_type": "stream",
     "text": [
      "Epoch 1/100\n",
      "469/469 [==============================] - 7s 13ms/step - loss: 0.2159 - val_loss: 0.1508\n",
      "Epoch 2/100\n",
      "469/469 [==============================] - 6s 12ms/step - loss: 0.1422 - val_loss: 0.1324\n",
      "Epoch 3/100\n",
      "469/469 [==============================] - 6s 12ms/step - loss: 0.1286 - val_loss: 0.1235\n",
      "Epoch 4/100\n",
      "469/469 [==============================] - 6s 12ms/step - loss: 0.1220 - val_loss: 0.1191\n",
      "Epoch 5/100\n",
      "469/469 [==============================] - 6s 12ms/step - loss: 0.1174 - val_loss: 0.1146\n",
      "Epoch 6/100\n",
      "469/469 [==============================] - 6s 12ms/step - loss: 0.1139 - val_loss: 0.1110\n",
      "Epoch 7/100\n",
      "469/469 [==============================] - 6s 12ms/step - loss: 0.1115 - val_loss: 0.1090\n",
      "Epoch 8/100\n",
      "469/469 [==============================] - 5s 12ms/step - loss: 0.1091 - val_loss: 0.1070\n",
      "Epoch 9/100\n",
      "469/469 [==============================] - 6s 12ms/step - loss: 0.1072 - val_loss: 0.1054\n",
      "Epoch 10/100\n",
      "469/469 [==============================] - 6s 12ms/step - loss: 0.1058 - val_loss: 0.1039\n",
      "Epoch 11/100\n",
      "469/469 [==============================] - 5s 12ms/step - loss: 0.1046 - val_loss: 0.1034\n",
      "Epoch 12/100\n",
      "469/469 [==============================] - 5s 12ms/step - loss: 0.1035 - val_loss: 0.1017\n",
      "Epoch 13/100\n",
      "469/469 [==============================] - 6s 12ms/step - loss: 0.1025 - val_loss: 0.1011\n",
      "Epoch 14/100\n",
      "469/469 [==============================] - 5s 12ms/step - loss: 0.1016 - val_loss: 0.1005\n",
      "Epoch 15/100\n",
      "469/469 [==============================] - 5s 12ms/step - loss: 0.1008 - val_loss: 0.0993\n",
      "Epoch 16/100\n",
      "469/469 [==============================] - 5s 12ms/step - loss: 0.1001 - val_loss: 0.0990\n",
      "Epoch 17/100\n",
      "469/469 [==============================] - 5s 12ms/step - loss: 0.0994 - val_loss: 0.0979\n",
      "Epoch 18/100\n",
      "469/469 [==============================] - 5s 12ms/step - loss: 0.0988 - val_loss: 0.0977\n",
      "Epoch 19/100\n",
      "469/469 [==============================] - 6s 12ms/step - loss: 0.0983 - val_loss: 0.0972\n",
      "Epoch 20/100\n",
      "469/469 [==============================] - 5s 12ms/step - loss: 0.0979 - val_loss: 0.0966\n",
      "Epoch 21/100\n",
      "469/469 [==============================] - 6s 12ms/step - loss: 0.0974 - val_loss: 0.0962\n",
      "Epoch 22/100\n",
      "469/469 [==============================] - 5s 12ms/step - loss: 0.0969 - val_loss: 0.0958\n",
      "Epoch 23/100\n",
      "469/469 [==============================] - 5s 12ms/step - loss: 0.0965 - val_loss: 0.0952\n",
      "Epoch 24/100\n",
      "469/469 [==============================] - 5s 12ms/step - loss: 0.0962 - val_loss: 0.0951\n",
      "Epoch 25/100\n",
      "469/469 [==============================] - 5s 12ms/step - loss: 0.0958 - val_loss: 0.0947\n",
      "Epoch 26/100\n",
      "469/469 [==============================] - 5s 12ms/step - loss: 0.0955 - val_loss: 0.0945\n",
      "Epoch 27/100\n",
      "469/469 [==============================] - 5s 12ms/step - loss: 0.0952 - val_loss: 0.0945\n",
      "Epoch 28/100\n",
      "469/469 [==============================] - 5s 12ms/step - loss: 0.0949 - val_loss: 0.0940\n",
      "Epoch 29/100\n",
      "469/469 [==============================] - 6s 12ms/step - loss: 0.0946 - val_loss: 0.0934\n",
      "Epoch 30/100\n",
      "469/469 [==============================] - 6s 12ms/step - loss: 0.0944 - val_loss: 0.0932\n",
      "Epoch 31/100\n",
      "469/469 [==============================] - 6s 12ms/step - loss: 0.0941 - val_loss: 0.0929\n",
      "Epoch 32/100\n",
      "469/469 [==============================] - 6s 12ms/step - loss: 0.0938 - val_loss: 0.0928\n",
      "Epoch 33/100\n",
      "469/469 [==============================] - 6s 12ms/step - loss: 0.0936 - val_loss: 0.0926\n",
      "Epoch 34/100\n",
      "469/469 [==============================] - 6s 12ms/step - loss: 0.0934 - val_loss: 0.0922\n",
      "Epoch 35/100\n",
      "469/469 [==============================] - 6s 12ms/step - loss: 0.0931 - val_loss: 0.0922\n",
      "Epoch 36/100\n",
      "469/469 [==============================] - 6s 12ms/step - loss: 0.0930 - val_loss: 0.0920\n",
      "Epoch 37/100\n",
      "469/469 [==============================] - 6s 12ms/step - loss: 0.0927 - val_loss: 0.0919\n",
      "Epoch 38/100\n",
      "469/469 [==============================] - 5s 12ms/step - loss: 0.0925 - val_loss: 0.0914\n",
      "Epoch 39/100\n",
      "469/469 [==============================] - 5s 12ms/step - loss: 0.0924 - val_loss: 0.0912\n",
      "Epoch 40/100\n",
      "469/469 [==============================] - 5s 12ms/step - loss: 0.0922 - val_loss: 0.0911\n",
      "Epoch 41/100\n",
      "469/469 [==============================] - 5s 12ms/step - loss: 0.0920 - val_loss: 0.0910\n",
      "Epoch 42/100\n",
      "469/469 [==============================] - 6s 12ms/step - loss: 0.0919 - val_loss: 0.0910\n",
      "Epoch 43/100\n",
      "469/469 [==============================] - 6s 12ms/step - loss: 0.0917 - val_loss: 0.0905\n",
      "Epoch 44/100\n",
      "469/469 [==============================] - 6s 12ms/step - loss: 0.0916 - val_loss: 0.0905\n",
      "Epoch 45/100\n",
      "469/469 [==============================] - 6s 12ms/step - loss: 0.0915 - val_loss: 0.0904\n",
      "Epoch 46/100\n",
      "469/469 [==============================] - 5s 12ms/step - loss: 0.0914 - val_loss: 0.0901\n",
      "Epoch 47/100\n",
      "469/469 [==============================] - 5s 12ms/step - loss: 0.0913 - val_loss: 0.0901\n",
      "Epoch 48/100\n",
      "469/469 [==============================] - 5s 12ms/step - loss: 0.0911 - val_loss: 0.0899\n",
      "Epoch 49/100\n",
      "469/469 [==============================] - 6s 12ms/step - loss: 0.0910 - val_loss: 0.0897\n",
      "Epoch 50/100\n",
      "469/469 [==============================] - 5s 12ms/step - loss: 0.0909 - val_loss: 0.0897\n",
      "Epoch 51/100\n",
      "469/469 [==============================] - 6s 12ms/step - loss: 0.0908 - val_loss: 0.0895\n",
      "Epoch 52/100\n",
      "469/469 [==============================] - 6s 12ms/step - loss: 0.0907 - val_loss: 0.0894\n",
      "Epoch 53/100\n",
      "469/469 [==============================] - 6s 12ms/step - loss: 0.0906 - val_loss: 0.0893\n",
      "Epoch 54/100\n",
      "469/469 [==============================] - 6s 12ms/step - loss: 0.0905 - val_loss: 0.0898\n",
      "Epoch 55/100\n",
      "469/469 [==============================] - 6s 12ms/step - loss: 0.0904 - val_loss: 0.0892\n",
      "Epoch 56/100\n",
      "469/469 [==============================] - 5s 12ms/step - loss: 0.0903 - val_loss: 0.0890\n",
      "Epoch 57/100\n",
      "469/469 [==============================] - 6s 12ms/step - loss: 0.0902 - val_loss: 0.0897\n",
      "Epoch 58/100\n",
      "469/469 [==============================] - 6s 12ms/step - loss: 0.0901 - val_loss: 0.0892\n",
      "Epoch 59/100\n",
      "469/469 [==============================] - 6s 12ms/step - loss: 0.0900 - val_loss: 0.0889\n",
      "Epoch 60/100\n",
      "469/469 [==============================] - 5s 12ms/step - loss: 0.0898 - val_loss: 0.0888\n",
      "Epoch 61/100\n",
      "469/469 [==============================] - 6s 12ms/step - loss: 0.0898 - val_loss: 0.0888\n",
      "Epoch 62/100\n",
      "469/469 [==============================] - 6s 12ms/step - loss: 0.0898 - val_loss: 0.0885\n",
      "Epoch 63/100\n",
      "469/469 [==============================] - 6s 12ms/step - loss: 0.0897 - val_loss: 0.0883\n",
      "Epoch 64/100\n",
      "469/469 [==============================] - 6s 12ms/step - loss: 0.0896 - val_loss: 0.0882\n",
      "Epoch 65/100\n",
      "469/469 [==============================] - 6s 12ms/step - loss: 0.0895 - val_loss: 0.0887\n",
      "Epoch 66/100\n",
      "469/469 [==============================] - 6s 12ms/step - loss: 0.0895 - val_loss: 0.0887\n",
      "Epoch 67/100\n",
      "469/469 [==============================] - 6s 12ms/step - loss: 0.0894 - val_loss: 0.0890\n",
      "Epoch 68/100\n",
      "469/469 [==============================] - 6s 12ms/step - loss: 0.0893 - val_loss: 0.0881\n",
      "Epoch 69/100\n",
      "469/469 [==============================] - 6s 12ms/step - loss: 0.0893 - val_loss: 0.0885\n",
      "Epoch 70/100\n",
      "469/469 [==============================] - 6s 12ms/step - loss: 0.0892 - val_loss: 0.0882\n",
      "Epoch 71/100\n",
      "469/469 [==============================] - 6s 12ms/step - loss: 0.0891 - val_loss: 0.0879\n",
      "Epoch 72/100\n",
      "469/469 [==============================] - 6s 12ms/step - loss: 0.0891 - val_loss: 0.0878\n",
      "Epoch 73/100\n",
      "469/469 [==============================] - 6s 12ms/step - loss: 0.0890 - val_loss: 0.0879\n",
      "Epoch 74/100\n",
      "469/469 [==============================] - 6s 12ms/step - loss: 0.0890 - val_loss: 0.0882\n",
      "Epoch 75/100\n",
      "469/469 [==============================] - 6s 12ms/step - loss: 0.0888 - val_loss: 0.0877\n",
      "Epoch 76/100\n",
      "469/469 [==============================] - 6s 12ms/step - loss: 0.0889 - val_loss: 0.0876\n",
      "Epoch 77/100\n",
      "469/469 [==============================] - 5s 12ms/step - loss: 0.0888 - val_loss: 0.0882\n",
      "Epoch 78/100\n",
      "469/469 [==============================] - 6s 12ms/step - loss: 0.0887 - val_loss: 0.0875\n",
      "Epoch 79/100\n",
      "469/469 [==============================] - 6s 12ms/step - loss: 0.0887 - val_loss: 0.0874\n",
      "Epoch 80/100\n",
      "469/469 [==============================] - 6s 12ms/step - loss: 0.0886 - val_loss: 0.0874\n",
      "Epoch 81/100\n",
      "469/469 [==============================] - 6s 12ms/step - loss: 0.0885 - val_loss: 0.0877\n",
      "Epoch 82/100\n",
      "469/469 [==============================] - 6s 12ms/step - loss: 0.0885 - val_loss: 0.0874\n",
      "Epoch 83/100\n",
      "469/469 [==============================] - 6s 12ms/step - loss: 0.0884 - val_loss: 0.0872\n",
      "Epoch 84/100\n",
      "469/469 [==============================] - 6s 12ms/step - loss: 0.0885 - val_loss: 0.0874\n",
      "Epoch 85/100\n",
      "469/469 [==============================] - 6s 12ms/step - loss: 0.0884 - val_loss: 0.0873\n",
      "Epoch 86/100\n",
      "469/469 [==============================] - 6s 12ms/step - loss: 0.0883 - val_loss: 0.0875\n",
      "Epoch 87/100\n",
      "469/469 [==============================] - 6s 12ms/step - loss: 0.0883 - val_loss: 0.0871\n",
      "Epoch 88/100\n",
      "469/469 [==============================] - 6s 12ms/step - loss: 0.0882 - val_loss: 0.0869\n",
      "Epoch 89/100\n",
      "469/469 [==============================] - 6s 12ms/step - loss: 0.0882 - val_loss: 0.0875\n",
      "Epoch 90/100\n",
      "469/469 [==============================] - 6s 12ms/step - loss: 0.0882 - val_loss: 0.0870\n",
      "Epoch 91/100\n",
      "469/469 [==============================] - 6s 12ms/step - loss: 0.0881 - val_loss: 0.0868\n",
      "Epoch 92/100\n",
      "469/469 [==============================] - 6s 12ms/step - loss: 0.0881 - val_loss: 0.0870\n",
      "Epoch 93/100\n",
      "469/469 [==============================] - 6s 12ms/step - loss: 0.0881 - val_loss: 0.0867\n",
      "Epoch 94/100\n",
      "469/469 [==============================] - 6s 12ms/step - loss: 0.0880 - val_loss: 0.0869\n",
      "Epoch 95/100\n",
      "469/469 [==============================] - 6s 12ms/step - loss: 0.0880 - val_loss: 0.0868\n",
      "Epoch 96/100\n",
      "469/469 [==============================] - 6s 12ms/step - loss: 0.0880 - val_loss: 0.0867\n",
      "Epoch 97/100\n",
      "469/469 [==============================] - 6s 12ms/step - loss: 0.0879 - val_loss: 0.0868\n",
      "Epoch 98/100\n",
      "469/469 [==============================] - 6s 12ms/step - loss: 0.0879 - val_loss: 0.0871\n",
      "Epoch 99/100\n",
      "469/469 [==============================] - 6s 12ms/step - loss: 0.0879 - val_loss: 0.0869\n",
      "Epoch 100/100\n",
      "469/469 [==============================] - 6s 12ms/step - loss: 0.0878 - val_loss: 0.0868\n"
     ]
    },
    {
     "data": {
      "text/plain": [
       "<keras.callbacks.History at 0x7f372c238b50>"
      ]
     },
     "execution_count": 15,
     "metadata": {},
     "output_type": "execute_result"
    }
   ],
   "source": [
    "cae.fit(train_X_noisy, train_X,\n",
    "                epochs=100,\n",
    "                batch_size=128,\n",
    "                shuffle=True,\n",
    "                validation_data=(test_X_noisy, test_X)\n",
    "               )"
   ]
  },
  {
   "cell_type": "code",
   "execution_count": null,
   "metadata": {
    "id": "FCHlIuG1nBgl"
   },
   "outputs": [],
   "source": [
    "denoised = cae.predict(test_X_noisy)"
   ]
  },
  {
   "cell_type": "code",
   "execution_count": null,
   "metadata": {
    "colab": {
     "base_uri": "https://localhost:8080/",
     "height": 263
    },
    "id": "hzEQNt8Fm4yx",
    "outputId": "91105078-ffae-4038-f4db-6ce85925613c"
   },
   "outputs": [
    {
     "data": {
      "image/png": "[encoded data removed]",
      "text/plain": [
       "<Figure size 1440x288 with 20 Axes>"
      ]
     },
     "metadata": {},
     "output_type": "display_data"
    }
   ],
   "source": [
    "n = 10 # number of images to be plotted\n",
    "\n",
    "plt.figure(figsize=(20, 4))\n",
    "for i in range(n):\n",
    "    # display original\n",
    "    ax = plt.subplot(2, n, i + 1)\n",
    "    plt.gray()\n",
    "    plt.imshow(test_X_noisy[i].reshape(28, 28))\n",
    "\n",
    "    # display reconstruction\n",
    "    ax = plt.subplot(2, n, i+1+n)\n",
    "    plt.imshow(denoised[i].reshape(28, 28))\n",
    "    plt.gray()\n",
    "plt.show()\n",
    "\n",
    "# as we see, the denoised images are quise close to the original images"
   ]
  },
  {
   "cell_type": "code",
   "execution_count": 74,
   "metadata": {
    "id": "Ekyf6Sztw1e-"
   },
   "outputs": [],
   "source": [
    "# calculate error and chose the worst results, ones with highest variance\n",
    "from sklearn.metrics import mean_squared_error\n",
    "error = []\n",
    "for i in range(denoised.shape[0]):\n",
    "  mse = mean_squared_error(test_X_noisy.squeeze(axis=3)[i], denoised.squeeze(axis=3)[i])\n",
    "  error.append(mse)"
   ]
  },
  {
   "cell_type": "code",
   "execution_count": 75,
   "metadata": {
    "colab": {
     "base_uri": "https://localhost:8080/",
     "height": 268
    },
    "id": "YkvQ15mJ3MeV",
    "outputId": "99aa625b-c322-4320-ba30-7da7c16e4849"
   },
   "outputs": [
    {
     "data": {
      "image/png": "[encoded data removed]",
      "text/plain": [
       "<Figure size 432x288 with 2 Axes>"
      ]
     },
     "metadata": {
      "needs_background": "light"
     },
     "output_type": "display_data"
    }
   ],
   "source": [
    "# worst denoised image\n",
    "ax = plt.subplot(2, 1, 1)\n",
    "plt.gray()\n",
    "plt.imshow(test_X_noisy[error.index(max(error))].reshape(28, 28))\n",
    "\n",
    "ax = plt.subplot(2, 1, 2)\n",
    "plt.imshow(denoised[error.index(max(error))].reshape(28, 28))\n",
    "plt.gray()\n",
    "\n",
    "# even the worst denoised image seems to be recovered quite well"
   ]
  }
 ],
 "metadata": {
  "accelerator": "GPU",
  "colab": {
   "collapsed_sections": [],
   "name": "Ummon_Exercise.ipynb",
   "provenance": []
  },
  "kernelspec": {
   "display_name": "Python 3",
   "language": "python",
   "name": "python3"
  },
  "language_info": {
   "codemirror_mode": {
    "name": "ipython",
    "version": 3
   },
   "file_extension": ".py",
   "mimetype": "text/x-python",
   "name": "python",
   "nbconvert_exporter": "python",
   "pygments_lexer": "ipython3",
   "version": "3.8.8"
  }
 },
 "nbformat": 4,
 "nbformat_minor": 1
}
